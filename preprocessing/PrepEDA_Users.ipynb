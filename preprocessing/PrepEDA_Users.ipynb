{
 "cells": [
  {
   "cell_type": "markdown",
   "metadata": {},
   "source": [
    "# Preprocessing & EDA on Users"
   ]
  },
  {
   "cell_type": "code",
   "execution_count": 73,
   "metadata": {},
   "outputs": [],
   "source": [
    "import pandas as pd\n",
    "import matplotlib.pyplot as plt\n",
    "import seaborn as sns\n",
    "\n",
    "users = pd.read_csv('../data_raw/BX-Users.csv')"
   ]
  },
  {
   "cell_type": "markdown",
   "metadata": {},
   "source": [
    "## 1. Data Overview"
   ]
  },
  {
   "cell_type": "code",
   "execution_count": 74,
   "metadata": {},
   "outputs": [
    {
     "name": "stdout",
     "output_type": "stream",
     "text": [
      "Index(['User-ID', 'Location', 'Age'], dtype='object')\n"
     ]
    },
    {
     "data": {
      "text/html": [
       "<div>\n",
       "<style scoped>\n",
       "    .dataframe tbody tr th:only-of-type {\n",
       "        vertical-align: middle;\n",
       "    }\n",
       "\n",
       "    .dataframe tbody tr th {\n",
       "        vertical-align: top;\n",
       "    }\n",
       "\n",
       "    .dataframe thead th {\n",
       "        text-align: right;\n",
       "    }\n",
       "</style>\n",
       "<table border=\"1\" class=\"dataframe\">\n",
       "  <thead>\n",
       "    <tr style=\"text-align: right;\">\n",
       "      <th></th>\n",
       "      <th>User-ID</th>\n",
       "      <th>Location</th>\n",
       "      <th>Age</th>\n",
       "    </tr>\n",
       "  </thead>\n",
       "  <tbody>\n",
       "    <tr>\n",
       "      <th>0</th>\n",
       "      <td>183</td>\n",
       "      <td>porto, porto, portugal</td>\n",
       "      <td>27.0</td>\n",
       "    </tr>\n",
       "    <tr>\n",
       "      <th>1</th>\n",
       "      <td>242</td>\n",
       "      <td>neuffen, baden-wuerttemberg, germany</td>\n",
       "      <td>37.0</td>\n",
       "    </tr>\n",
       "    <tr>\n",
       "      <th>2</th>\n",
       "      <td>254</td>\n",
       "      <td>minneapolis, minnesota, usa</td>\n",
       "      <td>24.0</td>\n",
       "    </tr>\n",
       "    <tr>\n",
       "      <th>3</th>\n",
       "      <td>388</td>\n",
       "      <td>nashville, tennessee, usa</td>\n",
       "      <td>35.0</td>\n",
       "    </tr>\n",
       "    <tr>\n",
       "      <th>4</th>\n",
       "      <td>392</td>\n",
       "      <td>barcelona, catalunya, spain</td>\n",
       "      <td>44.0</td>\n",
       "    </tr>\n",
       "  </tbody>\n",
       "</table>\n",
       "</div>"
      ],
      "text/plain": [
       "   User-ID                              Location   Age\n",
       "0      183                porto, porto, portugal  27.0\n",
       "1      242  neuffen, baden-wuerttemberg, germany  37.0\n",
       "2      254           minneapolis, minnesota, usa  24.0\n",
       "3      388             nashville, tennessee, usa  35.0\n",
       "4      392           barcelona, catalunya, spain  44.0"
      ]
     },
     "execution_count": 74,
     "metadata": {},
     "output_type": "execute_result"
    }
   ],
   "source": [
    "# Index(['User-ID', 'Location', 'Age'], dtype='object')\n",
    "# 출신 지역정보와 나이 정보 제공\n",
    "\n",
    "print(users.columns)\n",
    "users.head()"
   ]
  },
  {
   "cell_type": "code",
   "execution_count": 75,
   "metadata": {},
   "outputs": [
    {
     "data": {
      "text/plain": [
       "5157"
      ]
     },
     "execution_count": 75,
     "metadata": {},
     "output_type": "execute_result"
    }
   ],
   "source": [
    "# Unique Users 명수: 5157명\n",
    "\n",
    "len(users['User-ID'].unique())"
   ]
  },
  {
   "cell_type": "markdown",
   "metadata": {},
   "source": [
    "## 2. EDA on Age"
   ]
  },
  {
   "cell_type": "code",
   "execution_count": 77,
   "metadata": {},
   "outputs": [
    {
     "data": {
      "text/plain": [
       "count    5157.000000\n",
       "mean       34.983324\n",
       "std        13.848990\n",
       "min         0.000000\n",
       "25%        26.000000\n",
       "50%        33.000000\n",
       "75%        41.000000\n",
       "max       244.000000\n",
       "Name: Age, dtype: float64"
      ]
     },
     "metadata": {},
     "output_type": "display_data"
    },
    {
     "data": {
      "text/plain": [
       "<seaborn.axisgrid.FacetGrid at 0x1cb981dc8b0>"
      ]
     },
     "metadata": {},
     "output_type": "display_data"
    },
    {
     "data": {
      "image/png": "[encoded data removed]",
      "text/plain": [
       "<Figure size 360x360 with 1 Axes>"
      ]
     },
     "metadata": {
      "needs_background": "light"
     },
     "output_type": "display_data"
    },
    {
     "data": {
      "image/png": "[encoded data removed]",
      "text/plain": [
       "<Figure size 360x360 with 1 Axes>"
      ]
     },
     "metadata": {
      "needs_background": "light"
     },
     "output_type": "display_data"
    }
   ],
   "source": [
    "# Users 연령 분포 체크\n",
    "\n",
    "display(users['Age'].describe())\n",
    "display(sns.displot(users['Age']))\n",
    "age = sns.displot(users['Age']).set(xlim=(0, 100))\n",
    "plt.show(age)"
   ]
  },
  {
   "cell_type": "code",
   "execution_count": 64,
   "metadata": {},
   "outputs": [
    {
     "name": "stdout",
     "output_type": "stream",
     "text": [
      "21\n",
      "18\n",
      "0\n"
     ]
    },
    {
     "data": {
      "text/html": [
       "<div>\n",
       "<style scoped>\n",
       "    .dataframe tbody tr th:only-of-type {\n",
       "        vertical-align: middle;\n",
       "    }\n",
       "\n",
       "    .dataframe tbody tr th {\n",
       "        vertical-align: top;\n",
       "    }\n",
       "\n",
       "    .dataframe thead th {\n",
       "        text-align: right;\n",
       "    }\n",
       "</style>\n",
       "<table border=\"1\" class=\"dataframe\">\n",
       "  <thead>\n",
       "    <tr style=\"text-align: right;\">\n",
       "      <th></th>\n",
       "      <th>User-ID</th>\n",
       "      <th>Location</th>\n",
       "      <th>Age</th>\n",
       "      <th>Country</th>\n",
       "    </tr>\n",
       "  </thead>\n",
       "  <tbody>\n",
       "    <tr>\n",
       "      <th>374</th>\n",
       "      <td>20845</td>\n",
       "      <td>berlin, berlin, germany</td>\n",
       "      <td>0.0</td>\n",
       "      <td>germany</td>\n",
       "    </tr>\n",
       "    <tr>\n",
       "      <th>375</th>\n",
       "      <td>20851</td>\n",
       "      <td>l�beck, schleswig-holstein, germany</td>\n",
       "      <td>0.0</td>\n",
       "      <td>germany</td>\n",
       "    </tr>\n",
       "    <tr>\n",
       "      <th>378</th>\n",
       "      <td>20859</td>\n",
       "      <td>t�bingen, baden-w�rttemberg, germany</td>\n",
       "      <td>0.0</td>\n",
       "      <td>germany</td>\n",
       "    </tr>\n",
       "    <tr>\n",
       "      <th>442</th>\n",
       "      <td>24462</td>\n",
       "      <td>barcelona, catalunya, spain</td>\n",
       "      <td>1.0</td>\n",
       "      <td>spain</td>\n",
       "    </tr>\n",
       "    <tr>\n",
       "      <th>615</th>\n",
       "      <td>34521</td>\n",
       "      <td>m�nsingen, bern, switzerland</td>\n",
       "      <td>2.0</td>\n",
       "      <td>switzerland</td>\n",
       "    </tr>\n",
       "    <tr>\n",
       "      <th>1676</th>\n",
       "      <td>91478</td>\n",
       "      <td>mountain view, california, usa</td>\n",
       "      <td>0.0</td>\n",
       "      <td>usa</td>\n",
       "    </tr>\n",
       "    <tr>\n",
       "      <th>1762</th>\n",
       "      <td>96473</td>\n",
       "      <td>t�bingen, baden-w�rttemberg, germany</td>\n",
       "      <td>4.0</td>\n",
       "      <td>germany</td>\n",
       "    </tr>\n",
       "    <tr>\n",
       "      <th>1764</th>\n",
       "      <td>96496</td>\n",
       "      <td>sault ste. marie, ontario, canada</td>\n",
       "      <td>0.0</td>\n",
       "      <td>canada</td>\n",
       "    </tr>\n",
       "    <tr>\n",
       "      <th>2184</th>\n",
       "      <td>119749</td>\n",
       "      <td>omaha, nebraska, usa</td>\n",
       "      <td>5.0</td>\n",
       "      <td>usa</td>\n",
       "    </tr>\n",
       "    <tr>\n",
       "      <th>2205</th>\n",
       "      <td>120860</td>\n",
       "      <td>huntsville, alabama, usa</td>\n",
       "      <td>2.0</td>\n",
       "      <td>usa</td>\n",
       "    </tr>\n",
       "    <tr>\n",
       "      <th>2700</th>\n",
       "      <td>145516</td>\n",
       "      <td>s�o paulo, s�o paulo, brazil</td>\n",
       "      <td>0.0</td>\n",
       "      <td>brazil</td>\n",
       "    </tr>\n",
       "    <tr>\n",
       "      <th>3344</th>\n",
       "      <td>180591</td>\n",
       "      <td>rio tinto, porto, portugal</td>\n",
       "      <td>1.0</td>\n",
       "      <td>portugal</td>\n",
       "    </tr>\n",
       "    <tr>\n",
       "      <th>3356</th>\n",
       "      <td>181496</td>\n",
       "      <td>charlotte, north carolina, usa</td>\n",
       "      <td>3.0</td>\n",
       "      <td>usa</td>\n",
       "    </tr>\n",
       "    <tr>\n",
       "      <th>3550</th>\n",
       "      <td>191865</td>\n",
       "      <td>roswell, georgia, usa</td>\n",
       "      <td>3.0</td>\n",
       "      <td>usa</td>\n",
       "    </tr>\n",
       "    <tr>\n",
       "      <th>4140</th>\n",
       "      <td>225232</td>\n",
       "      <td>sydney, new south wales, australia</td>\n",
       "      <td>4.0</td>\n",
       "      <td>australia</td>\n",
       "    </tr>\n",
       "    <tr>\n",
       "      <th>4193</th>\n",
       "      <td>227886</td>\n",
       "      <td>charlotte, north carolina, usa</td>\n",
       "      <td>1.0</td>\n",
       "      <td>usa</td>\n",
       "    </tr>\n",
       "    <tr>\n",
       "      <th>4353</th>\n",
       "      <td>237047</td>\n",
       "      <td>s. pedro da cova, porto, portugal</td>\n",
       "      <td>0.0</td>\n",
       "      <td>portugal</td>\n",
       "    </tr>\n",
       "    <tr>\n",
       "      <th>4547</th>\n",
       "      <td>246448</td>\n",
       "      <td>honolulu, hawaii, usa</td>\n",
       "      <td>0.0</td>\n",
       "      <td>usa</td>\n",
       "    </tr>\n",
       "    <tr>\n",
       "      <th>4671</th>\n",
       "      <td>252510</td>\n",
       "      <td>m�nchen, bayern, germany</td>\n",
       "      <td>1.0</td>\n",
       "      <td>germany</td>\n",
       "    </tr>\n",
       "    <tr>\n",
       "      <th>4799</th>\n",
       "      <td>259626</td>\n",
       "      <td>austin, texas, usa</td>\n",
       "      <td>2.0</td>\n",
       "      <td>usa</td>\n",
       "    </tr>\n",
       "    <tr>\n",
       "      <th>4915</th>\n",
       "      <td>266176</td>\n",
       "      <td>caldwell, idaho, usa</td>\n",
       "      <td>0.0</td>\n",
       "      <td>usa</td>\n",
       "    </tr>\n",
       "  </tbody>\n",
       "</table>\n",
       "</div>"
      ],
      "text/plain": [
       "      User-ID                              Location  Age      Country\n",
       "374     20845               berlin, berlin, germany  0.0      germany\n",
       "375     20851   l�beck, schleswig-holstein, germany  0.0      germany\n",
       "378     20859  t�bingen, baden-w�rttemberg, germany  0.0      germany\n",
       "442     24462           barcelona, catalunya, spain  1.0        spain\n",
       "615     34521          m�nsingen, bern, switzerland  2.0  switzerland\n",
       "1676    91478        mountain view, california, usa  0.0          usa\n",
       "1762    96473  t�bingen, baden-w�rttemberg, germany  4.0      germany\n",
       "1764    96496     sault ste. marie, ontario, canada  0.0       canada\n",
       "2184   119749                  omaha, nebraska, usa  5.0          usa\n",
       "2205   120860              huntsville, alabama, usa  2.0          usa\n",
       "2700   145516          s�o paulo, s�o paulo, brazil  0.0       brazil\n",
       "3344   180591            rio tinto, porto, portugal  1.0     portugal\n",
       "3356   181496        charlotte, north carolina, usa  3.0          usa\n",
       "3550   191865                 roswell, georgia, usa  3.0          usa\n",
       "4140   225232    sydney, new south wales, australia  4.0    australia\n",
       "4193   227886        charlotte, north carolina, usa  1.0          usa\n",
       "4353   237047     s. pedro da cova, porto, portugal  0.0     portugal\n",
       "4547   246448                 honolulu, hawaii, usa  0.0          usa\n",
       "4671   252510              m�nchen, bayern, germany  1.0      germany\n",
       "4799   259626                    austin, texas, usa  2.0          usa\n",
       "4915   266176                  caldwell, idaho, usa  0.0          usa"
      ]
     },
     "metadata": {},
     "output_type": "display_data"
    },
    {
     "data": {
      "text/html": [
       "<div>\n",
       "<style scoped>\n",
       "    .dataframe tbody tr th:only-of-type {\n",
       "        vertical-align: middle;\n",
       "    }\n",
       "\n",
       "    .dataframe tbody tr th {\n",
       "        vertical-align: top;\n",
       "    }\n",
       "\n",
       "    .dataframe thead th {\n",
       "        text-align: right;\n",
       "    }\n",
       "</style>\n",
       "<table border=\"1\" class=\"dataframe\">\n",
       "  <thead>\n",
       "    <tr style=\"text-align: right;\">\n",
       "      <th></th>\n",
       "      <th>User-ID</th>\n",
       "      <th>Location</th>\n",
       "      <th>Age</th>\n",
       "      <th>Country</th>\n",
       "    </tr>\n",
       "  </thead>\n",
       "  <tbody>\n",
       "    <tr>\n",
       "      <th>152</th>\n",
       "      <td>8782</td>\n",
       "      <td>calgary, alberta, canada</td>\n",
       "      <td>239.0</td>\n",
       "      <td>canada</td>\n",
       "    </tr>\n",
       "    <tr>\n",
       "      <th>218</th>\n",
       "      <td>13273</td>\n",
       "      <td>harrisburg, pennsylvania, usa</td>\n",
       "      <td>201.0</td>\n",
       "      <td>usa</td>\n",
       "    </tr>\n",
       "    <tr>\n",
       "      <th>372</th>\n",
       "      <td>20688</td>\n",
       "      <td>gav�, barcelona (catalunya), spain</td>\n",
       "      <td>104.0</td>\n",
       "      <td>spain</td>\n",
       "    </tr>\n",
       "    <tr>\n",
       "      <th>376</th>\n",
       "      <td>20857</td>\n",
       "      <td>stuttgart, baden-wuerttemberg, germany</td>\n",
       "      <td>244.0</td>\n",
       "      <td>germany</td>\n",
       "    </tr>\n",
       "    <tr>\n",
       "      <th>1274</th>\n",
       "      <td>71800</td>\n",
       "      <td>sunnyvale, california, usa</td>\n",
       "      <td>136.0</td>\n",
       "      <td>usa</td>\n",
       "    </tr>\n",
       "    <tr>\n",
       "      <th>1373</th>\n",
       "      <td>76482</td>\n",
       "      <td>zanesville, ohio, usa</td>\n",
       "      <td>103.0</td>\n",
       "      <td>usa</td>\n",
       "    </tr>\n",
       "    <tr>\n",
       "      <th>1659</th>\n",
       "      <td>90766</td>\n",
       "      <td>rangoon, rangoon, burma</td>\n",
       "      <td>136.0</td>\n",
       "      <td>burma</td>\n",
       "    </tr>\n",
       "    <tr>\n",
       "      <th>1768</th>\n",
       "      <td>96714</td>\n",
       "      <td>ponte vedra, festa da l�ngua, galiza</td>\n",
       "      <td>141.0</td>\n",
       "      <td>galiza</td>\n",
       "    </tr>\n",
       "    <tr>\n",
       "      <th>1875</th>\n",
       "      <td>101668</td>\n",
       "      <td>stuttgart, baden-wuerttemberg, germany</td>\n",
       "      <td>151.0</td>\n",
       "      <td>germany</td>\n",
       "    </tr>\n",
       "    <tr>\n",
       "      <th>2178</th>\n",
       "      <td>119282</td>\n",
       "      <td>chicago, illinois, usa</td>\n",
       "      <td>168.0</td>\n",
       "      <td>usa</td>\n",
       "    </tr>\n",
       "    <tr>\n",
       "      <th>2219</th>\n",
       "      <td>121726</td>\n",
       "      <td>balmain, new south wales, australia</td>\n",
       "      <td>148.0</td>\n",
       "      <td>australia</td>\n",
       "    </tr>\n",
       "    <tr>\n",
       "      <th>3011</th>\n",
       "      <td>163655</td>\n",
       "      <td>langenfeld, nrw, germany</td>\n",
       "      <td>199.0</td>\n",
       "      <td>germany</td>\n",
       "    </tr>\n",
       "    <tr>\n",
       "      <th>3672</th>\n",
       "      <td>198984</td>\n",
       "      <td>strasbourg, alsace, france</td>\n",
       "      <td>104.0</td>\n",
       "      <td>france</td>\n",
       "    </tr>\n",
       "    <tr>\n",
       "      <th>3941</th>\n",
       "      <td>213150</td>\n",
       "      <td>destrehan, louisiana, usa</td>\n",
       "      <td>103.0</td>\n",
       "      <td>usa</td>\n",
       "    </tr>\n",
       "    <tr>\n",
       "      <th>4126</th>\n",
       "      <td>224764</td>\n",
       "      <td>rockaway, new jersey, usa</td>\n",
       "      <td>116.0</td>\n",
       "      <td>usa</td>\n",
       "    </tr>\n",
       "    <tr>\n",
       "      <th>4171</th>\n",
       "      <td>226616</td>\n",
       "      <td>tucson, arizona, usa</td>\n",
       "      <td>204.0</td>\n",
       "      <td>usa</td>\n",
       "    </tr>\n",
       "    <tr>\n",
       "      <th>4894</th>\n",
       "      <td>264934</td>\n",
       "      <td>madrid, madrid, spain</td>\n",
       "      <td>140.0</td>\n",
       "      <td>spain</td>\n",
       "    </tr>\n",
       "    <tr>\n",
       "      <th>4946</th>\n",
       "      <td>267830</td>\n",
       "      <td>fort worth, texas, usa</td>\n",
       "      <td>101.0</td>\n",
       "      <td>usa</td>\n",
       "    </tr>\n",
       "  </tbody>\n",
       "</table>\n",
       "</div>"
      ],
      "text/plain": [
       "      User-ID                                Location    Age    Country\n",
       "152      8782                calgary, alberta, canada  239.0     canada\n",
       "218     13273           harrisburg, pennsylvania, usa  201.0        usa\n",
       "372     20688      gav�, barcelona (catalunya), spain  104.0      spain\n",
       "376     20857  stuttgart, baden-wuerttemberg, germany  244.0    germany\n",
       "1274    71800              sunnyvale, california, usa  136.0        usa\n",
       "1373    76482                   zanesville, ohio, usa  103.0        usa\n",
       "1659    90766                 rangoon, rangoon, burma  136.0      burma\n",
       "1768    96714    ponte vedra, festa da l�ngua, galiza  141.0     galiza\n",
       "1875   101668  stuttgart, baden-wuerttemberg, germany  151.0    germany\n",
       "2178   119282                  chicago, illinois, usa  168.0        usa\n",
       "2219   121726     balmain, new south wales, australia  148.0  australia\n",
       "3011   163655                langenfeld, nrw, germany  199.0    germany\n",
       "3672   198984              strasbourg, alsace, france  104.0     france\n",
       "3941   213150               destrehan, louisiana, usa  103.0        usa\n",
       "4126   224764               rockaway, new jersey, usa  116.0        usa\n",
       "4171   226616                    tucson, arizona, usa  204.0        usa\n",
       "4894   264934                   madrid, madrid, spain  140.0      spain\n",
       "4946   267830                  fort worth, texas, usa  101.0        usa"
      ]
     },
     "metadata": {},
     "output_type": "display_data"
    }
   ],
   "source": [
    "# 연령 관련 Outlier 체크\n",
    "\n",
    "## Users 중 Age가 6살 미만인 사용자들이 21명 존재함\n",
    "## Users 중 Age가 100 초과인 사용자들이 18명 존재함\n",
    "## Age null 값은 없음\n",
    "\n",
    "print(len(users[users['Age']<6]))\n",
    "print(len(users[users['Age']>100]))\n",
    "print((users['Age'].isna().sum()))\n",
    "display(users[users['Age']<6])\n",
    "display(users[users['Age']>100])"
   ]
  },
  {
   "cell_type": "markdown",
   "metadata": {},
   "source": [
    "## 3. Preprocessing on \"Location\""
   ]
  },
  {
   "cell_type": "code",
   "execution_count": 34,
   "metadata": {},
   "outputs": [
    {
     "data": {
      "text/plain": [
       "count                         5157\n",
       "unique                        2748\n",
       "top       toronto, ontario, canada\n",
       "freq                            48\n",
       "Name: Location, dtype: object"
      ]
     },
     "metadata": {},
     "output_type": "display_data"
    },
    {
     "data": {
      "text/plain": [
       "toronto, ontario, canada               48\n",
       "hamburg, hamburg, germany              48\n",
       "madrid, madrid, spain                  45\n",
       "barcelona, catalunya, spain            38\n",
       "berlin, berlin, germany                35\n",
       "portland, oregon, usa                  34\n",
       "paris, ile de france, france           32\n",
       "chicago, illinois, usa                 32\n",
       "ottawa, ontario, canada                31\n",
       "sydney, new south wales, australia     27\n",
       "minneapolis, minnesota, usa            25\n",
       "austin, texas, usa                     24\n",
       "san diego, california, usa             23\n",
       "london, england, united kingdom        23\n",
       "m�nchen, bayern, germany               23\n",
       "seattle, washington, usa               22\n",
       "barcelona, barcelona, spain            22\n",
       "vancouver, british columbia, canada    21\n",
       "new york, new york, usa                21\n",
       "san francisco, california, usa         20\n",
       "Name: Location, dtype: int64"
      ]
     },
     "metadata": {},
     "output_type": "display_data"
    }
   ],
   "source": [
    "# Users 출신지 분포 체크\n",
    "\n",
    "display(users['Location'].describe())\n",
    "display(users['Location'].value_counts()[:20])"
   ]
  },
  {
   "cell_type": "code",
   "execution_count": 39,
   "metadata": {},
   "outputs": [],
   "source": [
    "# 원본 Users 데이터에 출신국가 column 별도로 추가\n",
    "\n",
    "country_lst = [loc_info.split(',')[-1].strip() for loc_info in users['Location'].values]\n",
    "users['Country'] = country_lst\n",
    "users.to_csv('../data_new/users_with_country.csv', encoding='utf-8', index=False)"
   ]
  },
  {
   "cell_type": "code",
   "execution_count": 59,
   "metadata": {},
   "outputs": [],
   "source": [
    "# Country 정보가 없는 Users(9명)에 대해 country 정보 수동으로 추가\n",
    "\n",
    "users_no_country = users_with_country[users_with_country['Country'].isna()]['Location'].index\n",
    "no_country_lst = users_with_country[users_with_country['Country'].isna()]['Location'].values\n",
    "add_country = ['usa', 'usa', 'usa', 'usa', 'canada', 'usa', 'australia', 'france', 'usa']\n",
    "new_country_info = [f\"{origin_info} {add}\" for origin_info, add in zip(no_country_lst, add_country)]\n",
    "\n",
    "users_with_country.loc[users_no_country, 'Location'] = new_country_info\n",
    "users_with_country.loc[users_no_country, 'Country'] = add_country\n",
    "\n",
    "users_with_country.to_csv('../data_new/users_with_country.csv', encoding='utf-8', index=False)"
   ]
  },
  {
   "cell_type": "markdown",
   "metadata": {},
   "source": [
    "## 4. EDA on Country"
   ]
  },
  {
   "cell_type": "code",
   "execution_count": 85,
   "metadata": {},
   "outputs": [
    {
     "data": {
      "text/plain": [
       "usa               2719\n",
       "germany            681\n",
       "canada             398\n",
       "spain              363\n",
       "united kingdom     210\n",
       "france             199\n",
       "australia          108\n",
       "switzerland         94\n",
       "portugal            68\n",
       "italy               49\n",
       "austria             46\n",
       "netherlands         41\n",
       "malaysia            35\n",
       "new zealand         14\n",
       "finland             14\n",
       "Name: Country, dtype: int64"
      ]
     },
     "metadata": {},
     "output_type": "display_data"
    },
    {
     "data": {
      "image/png": "[encoded data removed]",
      "text/plain": [
       "<Figure size 360x360 with 1 Axes>"
      ]
     },
     "metadata": {
      "needs_background": "light"
     },
     "output_type": "display_data"
    }
   ],
   "source": [
    "# 출신국가 분포 체크\n",
    "\n",
    "users = pd.read_csv('../data_new/users_with_country.csv')\n",
    "display(users['Country'].value_counts()[:15])\n",
    "\n",
    "country_top15 = users['Country'].value_counts()[:15].index\n",
    "users_from_country_top15 = users[users['Country'].isin(country_top15)]\n",
    "ax = sns.displot(users_from_country_top15['Country'])\n",
    "ax.set_xticklabels(rotation=90)\n",
    "plt.show()"
   ]
  },
  {
   "cell_type": "code",
   "execution_count": 71,
   "metadata": {},
   "outputs": [
    {
     "data": {
      "text/plain": [
       "63"
      ]
     },
     "execution_count": 71,
     "metadata": {},
     "output_type": "execute_result"
    }
   ],
   "source": [
    "# 총 63개국 Users 데이터임\n",
    "\n",
    "len(users['Country'].unique())"
   ]
  }
 ],
 "metadata": {
  "interpreter": {
   "hash": "b3c6932f812749913a9a027e7f09a10fcbef652b225dfe79ffd55c90a1bb0c73"
  },
  "kernelspec": {
   "display_name": "Python 3.8.8 64-bit ('base': conda)",
   "language": "python",
   "name": "python3"
  },
  "language_info": {
   "codemirror_mode": {
    "name": "ipython",
    "version": 3
   },
   "file_extension": ".py",
   "mimetype": "text/x-python",
   "name": "python",
   "nbconvert_exporter": "python",
   "pygments_lexer": "ipython3",
   "version": "3.8.8"
  },
  "orig_nbformat": 4
 },
 "nbformat": 4,
 "nbformat_minor": 2
}
